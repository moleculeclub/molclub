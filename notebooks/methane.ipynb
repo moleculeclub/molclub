{
 "cells": [
  {
   "cell_type": "code",
   "execution_count": 1,
   "metadata": {},
   "outputs": [],
   "source": [
    "from tempfile import TemporaryDirectory\n",
    "from subprocess import run\n",
    "\n",
    "import matplotlib.pyplot as plt\n",
    "import numpy as np\n",
    "import pandas as pd\n",
    "from sklearn.metrics import mean_squared_error\n",
    "from scipy.optimize import minimize\n",
    "from rdkit import Chem\n",
    "from rdkit.Chem.Draw import IPythonConsole\n",
    "IPythonConsole.drawOptions.addAtomIndices = True\n",
    "\n",
    "from openmm import app, unit, LangevinMiddleIntegrator, LocalEnergyMinimizer\n",
    "\n",
    "from molclub.conf_tools import etkdg, crest\n",
    "from molclub.compute import gfnff, gfnxtb, orca_dft\n",
    "from molclub import visualize\n",
    "\n",
    "orca_dir = '/Users/ozone/bin/_orca_5_0_3'"
   ]
  },
  {
   "cell_type": "code",
   "execution_count": 2,
   "metadata": {},
   "outputs": [],
   "source": [
    "def get_atom_counter(mol):\n",
    "    symbols = set([atom.GetSymbol() for atom in mol.GetAtoms()])\n",
    "    atom_counter = {symbol: 1 for symbol in symbols}\n",
    "    return atom_counter\n",
    "\n",
    "def set_pdb_info(mol, name):\n",
    "    mol.SetProp('_Name', name)\n",
    "    atom_counter = get_atom_counter(mol)\n",
    "    for atom in mol.GetAtoms():\n",
    "        symbol = atom.GetSymbol()\n",
    "        counter = atom_counter[symbol]\n",
    "        atom_counter[symbol] += 1\n",
    "        info = Chem.AtomPDBResidueInfo()\n",
    "        info.SetName(f'{symbol}{counter}')\n",
    "        info.SetIsHeteroAtom(True)\n",
    "        info.SetResidueName(name)\n",
    "        info.SetResidueNumber(1)\n",
    "        atom.SetPDBResidueInfo(info)\n",
    "\n",
    "def prep_mol_for_pdb(smi, name):\n",
    "    mol = Chem.MolFromSmiles(smi)\n",
    "    mol = Chem.AddHs(mol)\n",
    "\n",
    "    mols = etkdg.generate_conformers(mol)\n",
    "    mols = [gfnff.opt(mol)[0] for mol in mols]\n",
    "    energies = [gfnxtb.sp(mol) for mol in mols]\n",
    "    mols, energies = zip(*(sorted(zip(mols, energies), key=lambda x: x[1])))\n",
    "    mol = mols[0]\n",
    "\n",
    "    set_pdb_info(mol, name)\n",
    "    return mol\n",
    "\n",
    "class AtomType():\n",
    "    __slots__ = ['symbol', 'neighbors']\n",
    "\n",
    "    def __init__(self, atom):\n",
    "        self.symbol = atom.GetSymbol()\n",
    "        self.neighbors = {}\n",
    "        mol = atom.GetOwningMol()\n",
    "        atom_idx = atom.GetIdx()\n",
    "        rank = 1\n",
    "        traversed_idxs = {atom_idx}\n",
    "        neighbors = {neighbor.GetIdx() for neighbor in atom.GetNeighbors()}\n",
    "        while len(neighbors) != 0:\n",
    "            traversed_idxs.update(neighbors)\n",
    "            self.neighbors[rank] = sorted([mol.GetAtomWithIdx(neighbor).GetSymbol() for neighbor in neighbors])\n",
    "            rank += 1\n",
    "            new_neighbors = set()\n",
    "            for neighbor in neighbors:\n",
    "                next_neighbors = mol.GetAtomWithIdx(neighbor).GetNeighbors()\n",
    "                next_neighbors = [neighbor.GetIdx() for neighbor in next_neighbors]\n",
    "                next_neighbors = set([neighbor for neighbor in next_neighbors if neighbor not in traversed_idxs])\n",
    "                new_neighbors.update(next_neighbors)\n",
    "            neighbors = new_neighbors\n",
    "\n",
    "    def match(self, other, rank):\n",
    "        if self.symbol != other.symbol:\n",
    "            return False\n",
    "        min_rank = min(max(self.neighbors.keys()), max(other.neighbors.keys()))\n",
    "        min_rank = min(min_rank, rank)\n",
    "        ranks = range(1, min_rank)\n",
    "        for rank in ranks:\n",
    "            if self.neighbors[rank] != other.neighbors[rank]:\n",
    "                return False\n",
    "        return True\n",
    "\n",
    "    def __repr__(self):\n",
    "        output = self.symbol + ': '\n",
    "        output += str(self.neighbors)\n",
    "        return output\n",
    "\n",
    "def get_unique_atom_types(atom_types):\n",
    "    unique_atom_types = []\n",
    "    for atom_type in atom_types:\n",
    "        matches = False\n",
    "        for unique_atom_type in unique_atom_types:\n",
    "            if atom_type.match(unique_atom_type, 1000):\n",
    "                matches = True\n",
    "\n",
    "        if not matches:\n",
    "            unique_atom_types.append(atom_type)\n",
    "\n",
    "    return unique_atom_types\n",
    "\n",
    "def get_atom_param(atom_type, df):\n",
    "    df = df.loc[df.symbol == atom_type.symbol]\n",
    "    if len(df) == 0:\n",
    "        raise ValueError(f'no parameters available for {atom_type.symbol}')\n",
    "\n",
    "    for i, col in enumerate([col for col in df.columns if 'neighbor' in col]):\n",
    "        try:\n",
    "            df_tmp = df.loc[df[col].apply(lambda x: x == atom_type.neighbors[i+1])]\n",
    "        except:\n",
    "            break\n",
    "        if len(df_tmp) == 0:\n",
    "            break\n",
    "        df = df_tmp\n",
    "\n",
    "    df['n_none'] = df.apply(lambda x: len([value for value in x if value is None]), axis=1)\n",
    "    df = df.sort_values(['n_none'], ascending=False)\n",
    "    row = df.iloc[0]\n",
    "    return {\n",
    "        'element': row.symbol,\n",
    "        'name': row['name'],\n",
    "        'class': row['class'],\n",
    "        'mass': row['mass'],\n",
    "    }\n",
    "\n",
    "def get_atom_params(mol, df_atoms):\n",
    "    atom_types = [AtomType(atom) for atom in mol.GetAtoms()]\n",
    "    unique_atom_types = get_unique_atom_types(atom_types)\n",
    "\n",
    "    atom_params = [get_atom_param(atom_type, df_atoms) for atom_type in atom_types]\n",
    "    unique_atom_params = [get_atom_param(atom_type, df_atoms) for atom_type in unique_atom_types]\n",
    "\n",
    "    return atom_params, unique_atom_params\n",
    "\n",
    "def get_bond_param(atom_types, df):\n",
    "    rev_atom_types = atom_types.copy()\n",
    "    rev_atom_types.reverse()\n",
    "    return df.loc[df.atoms.apply(lambda x: x == atom_types or x == rev_atom_types)].iloc[0]\n",
    "\n",
    "def get_angle_param(atom_types, df):\n",
    "    rev_atom_types = list(reversed(atom_types))\n",
    "    return df.loc[df.atoms.apply(lambda x: x == atom_types or x == rev_atom_types)].iloc[0]\n",
    "\n",
    "def get_unique_angles(mol, atom_params):\n",
    "    angles = []\n",
    "    for idxs in mol.GetSubstructMatches(Chem.MolFromSmarts('***')):\n",
    "        atom_types = [atom_params[idx]['name'] for idx in idxs]\n",
    "        angles.append(atom_types)\n",
    "\n",
    "    unique_angles = []\n",
    "    for angle in angles:\n",
    "        if angle not in unique_angles:\n",
    "            unique_angles.append(angle)\n",
    "\n",
    "    return unique_angles\n",
    "\n",
    "def get_energy(simulation):\n",
    "    state = simulation.context.getState(getEnergy=True)\n",
    "    return state.getPotentialEnergy().value_in_unit(unit.kilojoule_per_mole)\n",
    "\n",
    "def set_positions(simulation, positions):\n",
    "    q_positions = unit.Quantity(np.reshape(positions, (len(positions)//3, 3)), unit.nanometers)\n",
    "    simulation.context.setPositions(q_positions)\n",
    "    return simulation\n",
    "\n",
    "def get_pdb_atom_names(mol):\n",
    "    pdb_atoms = [line for line in Chem.MolToPDBBlock(mol).split('\\n') if line.startswith('HETATM')]\n",
    "    return [line.split()[2] for line in pdb_atoms]\n",
    "\n",
    "def get_ff_xml_block(mol, df_atoms, df_bonds, df_angles):\n",
    "    atom_names = get_pdb_atom_names(mol)\n",
    "    atom_params, unique_atom_params = get_atom_params(mol, df_atoms)\n",
    "\n",
    "    ff_xml_block = \"\"\"<ForceField>\n",
    "    <AtomTypes>\n",
    "    \"\"\"\n",
    "    for atom_param in unique_atom_params:\n",
    "        ff_xml_block += f'    <Type name=\"{atom_param[\"name\"]}\" class=\"{atom_param[\"class\"]}\" element=\"{atom_param[\"element\"]}\" mass=\"{atom_param[\"mass\"]}\"/>\\n'\n",
    "\n",
    "    ff_xml_block += f'  </AtomTypes>\\n\\n  <Residues>\\n    <Residue name=\"{mol.GetProp(\"_Name\")}\">\\n'\n",
    "\n",
    "    for atom_name, atom_param in zip(atom_names, atom_params):\n",
    "        ff_xml_block += f'      <Atom name=\"{atom_name}\" type=\"{atom_param[\"name\"]}\"/>\\n'\n",
    "\n",
    "    for bond in mol.GetBonds():\n",
    "        i = bond.GetBeginAtomIdx()\n",
    "        j = bond.GetEndAtomIdx()\n",
    "        ff_xml_block += f'      <Bond atomName1=\"{atom_names[i]}\" atomName2=\"{atom_names[j]}\"/>\\n'\n",
    "\n",
    "    ff_xml_block += '    </Residue>\\n  </Residues>\\n\\n  <CustomBondForce energy=\"k1 * (r - r0)^2 + k2 * (r - r0)^3\">\\n    <PerBondParameter name=\"k1\"/>\\n    <PerBondParameter name=\"k2\"/>\\n    <PerBondParameter name=\"r0\"/>\\n'\n",
    "\n",
    "    bond_xml_lines = set()\n",
    "    for bond in mol.GetBonds():\n",
    "        type_1 = atom_params[bond.GetBeginAtomIdx()]['name']\n",
    "        type_2 = atom_params[bond.GetEndAtomIdx()]['name']\n",
    "        atom_types = sorted([type_1, type_2])\n",
    "        bond_param = get_bond_param(atom_types, df_bonds)\n",
    "        bond_xml_lines.add(f'    <Bond type1=\"{type_1}\" type2=\"{type_2}\" k1=\"{bond_param[\"k1\"]}\" k2=\"{bond_param[\"k2\"]}\" r0=\"{bond_param[\"r0\"]}\"/>\\n')\n",
    "\n",
    "    for bond_xml_line in bond_xml_lines:\n",
    "        ff_xml_block += bond_xml_line\n",
    "\n",
    "    ff_xml_block += '  </CustomBondForce>\\n\\n  <CustomAngleForce energy=\"k1 * (theta - theta0)^2 + k2 * (theta - theta0)^3\">\\n    <PerAngleParameter name=\"k1\"/>\\n    <PerAngleParameter name=\"k2\"/>\\n    <PerAngleParameter name=\"theta0\"/>\\n'\n",
    "\n",
    "    angle_xml_lines = set()\n",
    "    for atom_types in get_unique_angles(mol, atom_params):\n",
    "        outer = sorted([atom_types[0], atom_types[2]])\n",
    "        atom_types = [outer[0], atom_types[1], outer[1]]\n",
    "        angle_param = get_angle_param(atom_types, df_angles)\n",
    "        angle_xml_lines.add(f'    <Angle type1=\"{atom_types[0]}\" type2=\"{atom_types[1]}\" type3=\"{atom_types[2]}\" k1=\"{angle_param[\"k1\"]}\" k2=\"{angle_param[\"k2\"]}\" theta0=\"{angle_param[\"theta0\"]}\"/>\\n')\n",
    "\n",
    "    for angle_xml_line in angle_xml_lines:\n",
    "        ff_xml_block += angle_xml_line\n",
    "\n",
    "    ff_xml_block += '  </CustomAngleForce>\\n</ForceField>'\n",
    "\n",
    "    return ff_xml_block\n",
    "\n",
    "def get_simulation(mol, df_atoms, df_bonds, df_angles):\n",
    "    with TemporaryDirectory() as tmp:\n",
    "        Chem.MolToPDBFile(mol, f'{tmp}/mol.pdb')\n",
    "        pdb = app.PDBFile(f'{tmp}/mol.pdb')\n",
    "\n",
    "        ff_xml_path = f'{tmp}/ff.xml'\n",
    "        ff_xml_block = get_ff_xml_block(mol, df_atoms, df_bonds, df_angles)\n",
    "        with open(ff_xml_path, 'w') as ff_xml_file:\n",
    "            ff_xml_file.write(ff_xml_block)\n",
    "        ff = app.ForceField(ff_xml_path)\n",
    "\n",
    "    system = ff.createSystem(\n",
    "        pdb.topology,\n",
    "    )\n",
    "    integrator = LangevinMiddleIntegrator(\n",
    "        300*unit.kelvin,\n",
    "        1/unit.picosecond,\n",
    "        0.001*unit.picoseconds,\n",
    "    )\n",
    "    simulation = app.Simulation(\n",
    "        pdb.topology, system, integrator\n",
    "    )\n",
    "    simulation.context.setPositions(pdb.positions)\n",
    "\n",
    "    return simulation\n",
    "\n",
    "def openmm_sp(simulation):\n",
    "    return get_energy(simulation)\n",
    "\n",
    "def minimize_openmm(simulation):\n",
    "    initial_positions = simulation.context.getState(getPositions=True).getPositions(asNumpy=True).value_in_unit(unit.nanometer).flatten()\n",
    "\n",
    "    res = minimize(\n",
    "        lambda x: get_energy(set_positions(simulation, x)),\n",
    "        initial_positions,\n",
    "        method='Nelder-Mead'\n",
    "    )\n",
    "\n",
    "    simulation = set_positions(simulation, res.x)\n",
    "\n",
    "    return simulation, res.fun"
   ]
  },
  {
   "cell_type": "code",
   "execution_count": 3,
   "metadata": {},
   "outputs": [
    {
     "data": {
      "application/3dmoljs_load.v0": "<div id=\"3dmolviewer_1665187726243076\"  style=\"position: relative; width: 400px; height: 300px\">\n        <p id=\"3dmolwarning_1665187726243076\" style=\"background-color:#ffcccc;color:black\">You appear to be running in JupyterLab (or JavaScript failed to load for some other reason).  You need to install the 3dmol extension: <br>\n        <tt>jupyter labextension install jupyterlab_3dmol</tt></p>\n        </div>\n<script>\n\nvar loadScriptAsync = function(uri){\n  return new Promise((resolve, reject) => {\n    var tag = document.createElement('script');\n    tag.src = uri;\n    tag.async = true;\n    tag.onload = () => {\n      resolve();\n    };\n  var firstScriptTag = document.getElementsByTagName('script')[0];\n  firstScriptTag.parentNode.insertBefore(tag, firstScriptTag);\n});\n};\n\nif(typeof $3Dmolpromise === 'undefined') {\n$3Dmolpromise = null;\n  $3Dmolpromise = loadScriptAsync('https://3dmol.org/build/3Dmol.js');\n}\n\nvar viewer_1665187726243076 = null;\nvar warn = document.getElementById(\"3dmolwarning_1665187726243076\");\nif(warn) {\n    warn.parentNode.removeChild(warn);\n}\n$3Dmolpromise.then(function() {\nviewer_1665187726243076 = $3Dmol.createViewer($(\"#3dmolviewer_1665187726243076\"),{backgroundColor:\"white\"});\nviewer_1665187726243076.zoomTo();\n\tviewer_1665187726243076.removeAllModels();\n\tviewer_1665187726243076.addModel(\"me \\n     RDKit          3D\\n\\n  5  4  0  0  0  0  0  0  0  0999 V2000\\n    0.0000   -0.0000    0.0000 C   0  0  0  0  0  0  0  0  0  0  0  0\\n   -0.6437   -0.7625   -0.4317 H   0  0  0  0  0  0  0  0  0  0  0  0\\n   -0.3906    0.9849   -0.2443 H   0  0  0  0  0  0  0  0  0  0  0  0\\n    0.0301   -0.1202    1.0802 H   0  0  0  0  0  0  0  0  0  0  0  0\\n    1.0043   -0.1021   -0.4042 H   0  0  0  0  0  0  0  0  0  0  0  0\\n  1  2  1  0\\n  1  3  1  0\\n  1  4  1  0\\n  1  5  1  0\\nM  END\\n\");\n\t\tviewer_1665187726243076.getModel().setStyle({\"stick\": {\"colorscheme\": \"cyanCarbon\", \"radius\": 0.25}});\n\tviewer_1665187726243076.setViewStyle({\"style\": \"outline\", \"color\": \"cyan\", \"width\": 0.04});\n\tviewer_1665187726243076.setBackgroundColor(\"black\");\n\tviewer_1665187726243076.zoomTo();\nviewer_1665187726243076.render();\n});\n</script>",
      "text/html": [
       "<div id=\"3dmolviewer_1665187726243076\"  style=\"position: relative; width: 400px; height: 300px\">\n",
       "        <p id=\"3dmolwarning_1665187726243076\" style=\"background-color:#ffcccc;color:black\">You appear to be running in JupyterLab (or JavaScript failed to load for some other reason).  You need to install the 3dmol extension: <br>\n",
       "        <tt>jupyter labextension install jupyterlab_3dmol</tt></p>\n",
       "        </div>\n",
       "<script>\n",
       "\n",
       "var loadScriptAsync = function(uri){\n",
       "  return new Promise((resolve, reject) => {\n",
       "    var tag = document.createElement('script');\n",
       "    tag.src = uri;\n",
       "    tag.async = true;\n",
       "    tag.onload = () => {\n",
       "      resolve();\n",
       "    };\n",
       "  var firstScriptTag = document.getElementsByTagName('script')[0];\n",
       "  firstScriptTag.parentNode.insertBefore(tag, firstScriptTag);\n",
       "});\n",
       "};\n",
       "\n",
       "if(typeof $3Dmolpromise === 'undefined') {\n",
       "$3Dmolpromise = null;\n",
       "  $3Dmolpromise = loadScriptAsync('https://3dmol.org/build/3Dmol.js');\n",
       "}\n",
       "\n",
       "var viewer_1665187726243076 = null;\n",
       "var warn = document.getElementById(\"3dmolwarning_1665187726243076\");\n",
       "if(warn) {\n",
       "    warn.parentNode.removeChild(warn);\n",
       "}\n",
       "$3Dmolpromise.then(function() {\n",
       "viewer_1665187726243076 = $3Dmol.createViewer($(\"#3dmolviewer_1665187726243076\"),{backgroundColor:\"white\"});\n",
       "viewer_1665187726243076.zoomTo();\n",
       "\tviewer_1665187726243076.removeAllModels();\n",
       "\tviewer_1665187726243076.addModel(\"me \\n     RDKit          3D\\n\\n  5  4  0  0  0  0  0  0  0  0999 V2000\\n    0.0000   -0.0000    0.0000 C   0  0  0  0  0  0  0  0  0  0  0  0\\n   -0.6437   -0.7625   -0.4317 H   0  0  0  0  0  0  0  0  0  0  0  0\\n   -0.3906    0.9849   -0.2443 H   0  0  0  0  0  0  0  0  0  0  0  0\\n    0.0301   -0.1202    1.0802 H   0  0  0  0  0  0  0  0  0  0  0  0\\n    1.0043   -0.1021   -0.4042 H   0  0  0  0  0  0  0  0  0  0  0  0\\n  1  2  1  0\\n  1  3  1  0\\n  1  4  1  0\\n  1  5  1  0\\nM  END\\n\");\n",
       "\t\tviewer_1665187726243076.getModel().setStyle({\"stick\": {\"colorscheme\": \"cyanCarbon\", \"radius\": 0.25}});\n",
       "\tviewer_1665187726243076.setViewStyle({\"style\": \"outline\", \"color\": \"cyan\", \"width\": 0.04});\n",
       "\tviewer_1665187726243076.setBackgroundColor(\"black\");\n",
       "\tviewer_1665187726243076.zoomTo();\n",
       "viewer_1665187726243076.render();\n",
       "});\n",
       "</script>"
      ]
     },
     "metadata": {},
     "output_type": "display_data"
    },
    {
     "data": {
      "image/png": "[encoded data removed]",
      "text/plain": [
       "<rdkit.Chem.rdchem.Mol at 0x158e0ea20>"
      ]
     },
     "metadata": {},
     "output_type": "display_data"
    },
    {
     "name": "stdout",
     "output_type": "stream",
     "text": [
      "COMPND    me \n",
      "HETATM    1 C1 me      1       0.000  -0.000   0.000  1.00  0.00           C  \n",
      "HETATM    2 H1 me      1      -0.644  -0.763  -0.432  1.00  0.00           H  \n",
      "HETATM    3 H2 me      1      -0.391   0.985  -0.244  1.00  0.00           H  \n",
      "HETATM    4 H3 me      1       0.030  -0.120   1.080  1.00  0.00           H  \n",
      "HETATM    5 H4 me      1       1.004  -0.102  -0.404  1.00  0.00           H  \n",
      "CONECT    1    2    3    4    5\n",
      "END\n",
      "\n"
     ]
    }
   ],
   "source": [
    "mol = prep_mol_for_pdb('C', 'me ')\n",
    "visualize.mol(mol)\n",
    "display(Chem.Mol(mol, quickCopy=True))\n",
    "print(Chem.MolToPDBBlock(mol))"
   ]
  },
  {
   "cell_type": "code",
   "execution_count": 43,
   "metadata": {},
   "outputs": [],
   "source": [
    "# mol_2 = Chem.Mol(mol)\n",
    "# conf = mol_2.GetConformer()\n",
    "# for i, pos in enumerate(conf.GetPositions()):\n",
    "#     conf.SetAtomPosition(i, np.array(pos) + 2.5)\n",
    "\n",
    "# atom_counter = get_atom_counter(mol_2)\n",
    "# for atom in mol_2.GetAtoms():\n",
    "#     symbol = atom.GetSymbol()\n",
    "#     counter = atom_counter[symbol]\n",
    "#     atom_counter[symbol] += 1\n",
    "\n",
    "#     info = Chem.AtomPDBResidueInfo()\n",
    "#     info.SetName(f'{symbol}{counter}')\n",
    "#     info.SetResidueName('me')\n",
    "#     info.SetResidueNumber(2)\n",
    "#     atom.SetPDBResidueInfo(info)\n",
    "\n",
    "# mol = Chem.CombineMols(mol, mol_2)\n",
    "# mol, _ = gfnxtb.opt(mol)\n",
    "# visualize.mol(mol)"
   ]
  },
  {
   "cell_type": "code",
   "execution_count": 44,
   "metadata": {},
   "outputs": [],
   "source": [
    "# mol, energy = orca_dft.opt(mol, orca_dir)\n",
    "# visualize.mol(mol)\n",
    "# print(energy)"
   ]
  },
  {
   "cell_type": "markdown",
   "metadata": {},
   "source": [
    "## fitting"
   ]
  },
  {
   "cell_type": "code",
   "execution_count": 865,
   "metadata": {},
   "outputs": [],
   "source": [
    "def scan_geom(mol, cons_type, cons_atoms, cons_min, step_size, threshold, orca_dir):\n",
    "    results = {}\n",
    "    min_mol, min_energy = orca_dft.opt_cons(mol, [cons_type], [cons_atoms], [cons_min], orca_dir)\n",
    "    results[cons_min] = min_energy\n",
    "    # forward\n",
    "    cur_energy = min_energy\n",
    "    cur_value = cons_min\n",
    "    while cur_energy - min_energy < threshold:\n",
    "        cur_value += step_size\n",
    "        cur_mol, cur_energy = orca_dft.opt_cons(mol, [cons_type], [cons_atoms], [cur_value], orca_dir)\n",
    "        results[cur_value] = cur_energy\n",
    "\n",
    "    # backward\n",
    "    cur_energy = min_energy\n",
    "    cur_value = cons_min\n",
    "    while cur_energy - min_energy < threshold:\n",
    "        cur_value -= step_size\n",
    "        cur_mol, cur_energy = orca_dft.opt_cons(mol, [cons_type], [cons_atoms], [cur_value], orca_dir)\n",
    "        results[cur_value] = cur_energy\n",
    "\n",
    "    return results\n",
    "\n",
    "# scan_results = scan_geom(mol, 'bond', [0, 1], 1.091, 0.025, 8, orca_dir)\n",
    "scan_results = scan_geom(mol, 'angle', [1, 0, 2], 109.5, 5, 8, orca_dir)"
   ]
  },
  {
   "cell_type": "code",
   "execution_count": 868,
   "metadata": {},
   "outputs": [],
   "source": [
    "# r = [value/10 for value in scan_results.keys()]\n",
    "theta = [np.radians(value) for value in scan_results.keys()]\n",
    "E = [value * 4.184 for value in scan_results.values()]\n",
    "min_energy = min(E)\n",
    "E = [value - min_energy for value in E]"
   ]
  },
  {
   "cell_type": "code",
   "execution_count": 869,
   "metadata": {},
   "outputs": [
    {
     "data": {
      "image/png": "[encoded data removed]",
      "text/plain": [
       "<Figure size 432x288 with 1 Axes>"
      ]
     },
     "metadata": {
      "needs_background": "light"
     },
     "output_type": "display_data"
    }
   ],
   "source": [
    "# plt.scatter(r, E)\n",
    "plt.scatter(theta, E)\n",
    "plt.show()"
   ]
  },
  {
   "cell_type": "code",
   "execution_count": 878,
   "metadata": {},
   "outputs": [
    {
     "data": {
      "image/png": "[encoded data removed]",
      "text/plain": [
       "<Figure size 432x288 with 1 Axes>"
      ]
     },
     "metadata": {
      "needs_background": "light"
     },
     "output_type": "display_data"
    }
   ],
   "source": [
    "def harmonic(r, k1, k2, r0):\n",
    "    return k1 * np.power((r - r0), 2) + k2 * np.power((r - r0), 3)\n",
    "\n",
    "# x = np.arange(min(r), max(r), 0.001)\n",
    "x = np.arange(min(theta), max(theta), 0.001)\n",
    "# y = harmonic(x, 178000, -2500000, 0.1091)\n",
    "y = harmonic(x, 200, 0, 1.9)\n",
    "\n",
    "plt.plot(x, y)\n",
    "# plt.scatter(r, E)\n",
    "plt.scatter(theta, E)\n",
    "plt.show()"
   ]
  },
  {
   "cell_type": "code",
   "execution_count": 880,
   "metadata": {},
   "outputs": [
    {
     "data": {
      "text/plain": [
       " final_simplex: (array([[187.1149347 , -22.84748409,   1.91067358],\n",
       "       [187.11492517, -22.84739312,   1.9106736 ],\n",
       "       [187.11494545, -22.84755187,   1.91067354],\n",
       "       [187.11492701, -22.84757935,   1.91067355]]), array([0.00123666, 0.00123666, 0.00123666, 0.00123666]))\n",
       "           fun: 0.0012366613549262247\n",
       "       message: 'Optimization terminated successfully.'\n",
       "          nfev: 341\n",
       "           nit: 193\n",
       "        status: 0\n",
       "       success: True\n",
       "             x: array([187.1149347 , -22.84748409,   1.91067358])"
      ]
     },
     "execution_count": 880,
     "metadata": {},
     "output_type": "execute_result"
    }
   ],
   "source": [
    "def opt_harmonic(x, r, E):\n",
    "    E_pred = [harmonic(value, x[0], x[1], x[2]) for value in r]\n",
    "    return mean_squared_error(E, E_pred)\n",
    "\n",
    "res = minimize(\n",
    "    # lambda x: opt_harmonic(x, r, E),\n",
    "    lambda x: opt_harmonic(x, theta, E),\n",
    "    # [178000, -2500000, 0.1091],\n",
    "    [200, 0, 1.9],\n",
    "    method='Nelder-Mead'\n",
    ")\n",
    "\n",
    "res"
   ]
  },
  {
   "cell_type": "code",
   "execution_count": 882,
   "metadata": {},
   "outputs": [
    {
     "data": {
      "image/png": "[encoded data removed]",
      "text/plain": [
       "<Figure size 432x288 with 1 Axes>"
      ]
     },
     "metadata": {
      "needs_background": "light"
     },
     "output_type": "display_data"
    }
   ],
   "source": [
    "# x = np.arange(min(r), max(r)+0.01, 0.001)\n",
    "x = np.arange(min(theta), max(theta)+0.01, 0.001)\n",
    "y = harmonic(x, res.x[0], res.x[1], res.x[2])\n",
    "\n",
    "plt.plot(x, y)\n",
    "# plt.scatter(r, E)\n",
    "plt.scatter(theta, E)\n",
    "plt.show()"
   ]
  },
  {
   "cell_type": "code",
   "execution_count": 48,
   "metadata": {},
   "outputs": [
    {
     "name": "stdout",
     "output_type": "stream",
     "text": [
      "COMPND    me\n",
      "HETATM    1 C1 me     1       0.000  -0.000   0.000  1.00  0.00           C  \n",
      "HETATM    2 H1 me     1      -0.635  -0.829  -0.320  1.00  0.00           H  \n",
      "HETATM    3 H2 me     1      -0.419   0.940  -0.364  1.00  0.00           H  \n",
      "HETATM    4 H3 me     1       0.049   0.022   1.091  1.00  0.00           H  \n",
      "HETATM    5 H4 me     1       1.005  -0.133  -0.407  1.00  0.00           H  \n",
      "CONECT    1    2    3    4    5\n",
      "END\n",
      "\n"
     ]
    }
   ],
   "source": [
    "print(Chem.MolToPDBBlock(mol))"
   ]
  },
  {
   "cell_type": "markdown",
   "metadata": {},
   "source": [
    "## simulation"
   ]
  },
  {
   "cell_type": "code",
   "execution_count": 4,
   "metadata": {},
   "outputs": [
    {
     "data": {
      "text/html": [
       "<div>\n",
       "<style scoped>\n",
       "    .dataframe tbody tr th:only-of-type {\n",
       "        vertical-align: middle;\n",
       "    }\n",
       "\n",
       "    .dataframe tbody tr th {\n",
       "        vertical-align: top;\n",
       "    }\n",
       "\n",
       "    .dataframe thead th {\n",
       "        text-align: right;\n",
       "    }\n",
       "</style>\n",
       "<table border=\"1\" class=\"dataframe\">\n",
       "  <thead>\n",
       "    <tr style=\"text-align: right;\">\n",
       "      <th></th>\n",
       "      <th>symbol</th>\n",
       "      <th>r1_neighbors</th>\n",
       "      <th>r2_neighbors</th>\n",
       "      <th>r3_neighbors</th>\n",
       "      <th>name</th>\n",
       "      <th>class</th>\n",
       "      <th>mass</th>\n",
       "    </tr>\n",
       "  </thead>\n",
       "  <tbody>\n",
       "    <tr>\n",
       "      <th>0</th>\n",
       "      <td>H</td>\n",
       "      <td>None</td>\n",
       "      <td>None</td>\n",
       "      <td>None</td>\n",
       "      <td>H</td>\n",
       "      <td>H</td>\n",
       "      <td>1.007947</td>\n",
       "    </tr>\n",
       "    <tr>\n",
       "      <th>1</th>\n",
       "      <td>H</td>\n",
       "      <td>[C]</td>\n",
       "      <td>None</td>\n",
       "      <td>None</td>\n",
       "      <td>H1</td>\n",
       "      <td>H</td>\n",
       "      <td>1.007947</td>\n",
       "    </tr>\n",
       "    <tr>\n",
       "      <th>2</th>\n",
       "      <td>C</td>\n",
       "      <td>None</td>\n",
       "      <td>None</td>\n",
       "      <td>None</td>\n",
       "      <td>C</td>\n",
       "      <td>C</td>\n",
       "      <td>12.010780</td>\n",
       "    </tr>\n",
       "    <tr>\n",
       "      <th>3</th>\n",
       "      <td>C</td>\n",
       "      <td>[H, H, H, H]</td>\n",
       "      <td>None</td>\n",
       "      <td>None</td>\n",
       "      <td>C1</td>\n",
       "      <td>C</td>\n",
       "      <td>12.010780</td>\n",
       "    </tr>\n",
       "  </tbody>\n",
       "</table>\n",
       "</div>"
      ],
      "text/plain": [
       "  symbol  r1_neighbors r2_neighbors r3_neighbors name class       mass\n",
       "0      H          None         None         None    H     H   1.007947\n",
       "1      H           [C]         None         None   H1     H   1.007947\n",
       "2      C          None         None         None    C     C  12.010780\n",
       "3      C  [H, H, H, H]         None         None   C1     C  12.010780"
      ]
     },
     "execution_count": 4,
     "metadata": {},
     "output_type": "execute_result"
    }
   ],
   "source": [
    "df_atoms = pd.DataFrame(columns=['symbol', 'r1_neighbors', 'r2_neighbors', 'r3_neighbors', 'name', 'class', 'mass'])\n",
    "df_atoms.loc[len(df_atoms.index)] = ['H', None, None, None, 'H', 'H', 1.007947]\n",
    "df_atoms.loc[len(df_atoms.index)] = ['H', ['C'], None, None, 'H1', 'H', 1.007947]\n",
    "df_atoms.loc[len(df_atoms.index)] = ['C', None, None, None, 'C', 'C', 12.01078]\n",
    "df_atoms.loc[len(df_atoms.index)] = ['C', ['H', 'H', 'H', 'H'], None, None, 'C1', 'C', 12.01078]\n",
    "\n",
    "df_atoms"
   ]
  },
  {
   "cell_type": "code",
   "execution_count": 5,
   "metadata": {},
   "outputs": [
    {
     "data": {
      "text/html": [
       "<div>\n",
       "<style scoped>\n",
       "    .dataframe tbody tr th:only-of-type {\n",
       "        vertical-align: middle;\n",
       "    }\n",
       "\n",
       "    .dataframe tbody tr th {\n",
       "        vertical-align: top;\n",
       "    }\n",
       "\n",
       "    .dataframe thead th {\n",
       "        text-align: right;\n",
       "    }\n",
       "</style>\n",
       "<table border=\"1\" class=\"dataframe\">\n",
       "  <thead>\n",
       "    <tr style=\"text-align: right;\">\n",
       "      <th></th>\n",
       "      <th>atoms</th>\n",
       "      <th>k1</th>\n",
       "      <th>k2</th>\n",
       "      <th>r0</th>\n",
       "    </tr>\n",
       "  </thead>\n",
       "  <tbody>\n",
       "    <tr>\n",
       "      <th>0</th>\n",
       "      <td>[C1, H1]</td>\n",
       "      <td>166942.855</td>\n",
       "      <td>-3014996.02</td>\n",
       "      <td>0.10926</td>\n",
       "    </tr>\n",
       "  </tbody>\n",
       "</table>\n",
       "</div>"
      ],
      "text/plain": [
       "      atoms          k1          k2       r0\n",
       "0  [C1, H1]  166942.855 -3014996.02  0.10926"
      ]
     },
     "execution_count": 5,
     "metadata": {},
     "output_type": "execute_result"
    }
   ],
   "source": [
    "df_bonds = pd.DataFrame(columns=['atoms', 'k1', 'k2', 'r0'])\n",
    "df_bonds.loc[len(df_bonds.index)] = [['C1', 'H1'], 166942.855, -3014996.02, 0.109260467]\n",
    "\n",
    "df_bonds"
   ]
  },
  {
   "cell_type": "code",
   "execution_count": 6,
   "metadata": {},
   "outputs": [
    {
     "data": {
      "text/html": [
       "<div>\n",
       "<style scoped>\n",
       "    .dataframe tbody tr th:only-of-type {\n",
       "        vertical-align: middle;\n",
       "    }\n",
       "\n",
       "    .dataframe tbody tr th {\n",
       "        vertical-align: top;\n",
       "    }\n",
       "\n",
       "    .dataframe thead th {\n",
       "        text-align: right;\n",
       "    }\n",
       "</style>\n",
       "<table border=\"1\" class=\"dataframe\">\n",
       "  <thead>\n",
       "    <tr style=\"text-align: right;\">\n",
       "      <th></th>\n",
       "      <th>atoms</th>\n",
       "      <th>k1</th>\n",
       "      <th>k2</th>\n",
       "      <th>theta0</th>\n",
       "    </tr>\n",
       "  </thead>\n",
       "  <tbody>\n",
       "    <tr>\n",
       "      <th>0</th>\n",
       "      <td>[H1, C1, H1]</td>\n",
       "      <td>187.1149</td>\n",
       "      <td>-22.847484</td>\n",
       "      <td>1.910673</td>\n",
       "    </tr>\n",
       "  </tbody>\n",
       "</table>\n",
       "</div>"
      ],
      "text/plain": [
       "          atoms        k1         k2    theta0\n",
       "0  [H1, C1, H1]  187.1149 -22.847484  1.910673"
      ]
     },
     "execution_count": 6,
     "metadata": {},
     "output_type": "execute_result"
    }
   ],
   "source": [
    "df_angles = pd.DataFrame(columns=['atoms', 'k1', 'k2', 'theta0'])\n",
    "df_angles.loc[len(df_angles.index)] = [['H1', 'C1', 'H1'], 187.1149, -22.84748409, 1.910673]\n",
    "\n",
    "df_angles"
   ]
  },
  {
   "cell_type": "code",
   "execution_count": 8,
   "metadata": {},
   "outputs": [
    {
     "data": {
      "text/plain": [
       "0.1855686753988266"
      ]
     },
     "execution_count": 8,
     "metadata": {},
     "output_type": "execute_result"
    }
   ],
   "source": [
    "simulation = get_simulation(mol, df_atoms, df_bonds, df_angles)\n",
    "openmm_sp(simulation)"
   ]
  },
  {
   "cell_type": "code",
   "execution_count": 9,
   "metadata": {},
   "outputs": [
    {
     "data": {
      "text/plain": [
       "(<openmm.app.simulation.Simulation at 0x1039dd7e0>, 4.275319224689156e-05)"
      ]
     },
     "execution_count": 9,
     "metadata": {},
     "output_type": "execute_result"
    }
   ],
   "source": [
    "minimize_openmm(simulation)"
   ]
  },
  {
   "cell_type": "code",
   "execution_count": 10,
   "metadata": {},
   "outputs": [],
   "source": [
    "positions = simulation.context.getState(getPositions=True).getPositions()\n",
    "app.PDBFile.writeFile(simulation.topology, positions, open('tmp.pdb', 'w'))"
   ]
  },
  {
   "cell_type": "code",
   "execution_count": 400,
   "metadata": {},
   "outputs": [],
   "source": [
    "simulation.reporters.append(app.PDBReporter('tmp.pdb', 1))\n",
    "simulation.step(100)"
   ]
  }
 ],
 "metadata": {
  "kernelspec": {
   "display_name": "Python 3.10.5 ('molclub')",
   "language": "python",
   "name": "python3"
  },
  "language_info": {
   "codemirror_mode": {
    "name": "ipython",
    "version": 3
   },
   "file_extension": ".py",
   "mimetype": "text/x-python",
   "name": "python",
   "nbconvert_exporter": "python",
   "pygments_lexer": "ipython3",
   "version": "3.10.5"
  },
  "orig_nbformat": 4,
  "vscode": {
   "interpreter": {
    "hash": "d99df91ace14ae3af3010dabe2f6ce33aecd0647a307d6eed38c3d1d0e1f4f09"
   }
  }
 },
 "nbformat": 4,
 "nbformat_minor": 2
}
