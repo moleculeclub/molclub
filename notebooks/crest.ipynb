{
 "cells": [
  {
   "cell_type": "code",
   "execution_count": 7,
   "metadata": {},
   "outputs": [],
   "source": [
    "from typing import List, Union, TextIO\n",
    "import os\n",
    "import subprocess\n",
    "import tempfile\n",
    "\n",
    "from molclub import crest"
   ]
  },
  {
   "cell_type": "code",
   "execution_count": 13,
   "metadata": {},
   "outputs": [],
   "source": []
  },
  {
   "cell_type": "code",
   "execution_count": 14,
   "metadata": {},
   "outputs": [
    {
     "name": "stdout",
     "output_type": "stream",
     "text": [
      "\n",
      "       ==============================================\n",
      "       |                                            |\n",
      "       |                 C R E S T                  |\n",
      "       |                                            |\n",
      "       |  Conformer-Rotamer Ensemble Sampling Tool  |\n",
      "       |          based on the GFN methods          |\n",
      "       |             P.Pracht, S.Grimme             |\n",
      "       |          Universitaet Bonn, MCTC           |\n",
      "       ==============================================\n",
      "       Version 2.12,   Thu 19. Mai 16:32:32 CEST 2022\n",
      "  Using the xTB program. Compatible with xTB version 6.4.0\n",
      "\n",
      "   Cite work conducted with this code as\n",
      "\n",
      "   • P.Pracht, F.Bohle, S.Grimme, PCCP, 2020, 22, 7169-7192.\n",
      "   • S.Grimme, JCTC, 2019, 15, 2847-2862.\n",
      "\n",
      "   and for works involving QCG as\n",
      "\n",
      "   • S.Spicher, C.Plett, P.Pracht, A.Hansen, S.Grimme,\n",
      "     JCTC, 2022, 18 (5), 3174-3189.\n",
      "\n",
      "   with help from:\n",
      "   C.Bannwarth, F.Bohle, S.Ehlert, S.Grimme,\n",
      "   C.Plett, P.Pracht, S.Spicher\n",
      "\n",
      "   This program is distributed in the hope that it will be useful,\n",
      "   but WITHOUT ANY WARRANTY; without even the implied warranty of\n",
      "   MERCHANTABILITY or FITNESS FOR A PARTICULAR PURPOSE.\n",
      "\n",
      "\n",
      "CompletedProcess(args=['ls'], returncode=0, stdout=b'', stderr=b'')\n"
     ]
    }
   ],
   "source": [
    "with tempfile.TemporaryDirectory() as tmp:\n",
    "    proc = run(\n",
    "        [\n",
    "            'crest',\n",
    "            '--version',\n",
    "        ],\n",
    "        tmp,\n",
    "    )\n",
    "    proc = subprocess.run(\n",
    "        ['ls'],\n",
    "        cwd=tmp,\n",
    "        stdout=subprocess.PIPE,\n",
    "        stderr=subprocess.PIPE,\n",
    "    )\n",
    "    print(proc.stdout.decode())\n",
    "    print(proc)"
   ]
  }
 ],
 "metadata": {
  "interpreter": {
   "hash": "d99df91ace14ae3af3010dabe2f6ce33aecd0647a307d6eed38c3d1d0e1f4f09"
  },
  "kernelspec": {
   "display_name": "Python 3.10.4 ('molclub')",
   "language": "python",
   "name": "python3"
  },
  "language_info": {
   "codemirror_mode": {
    "name": "ipython",
    "version": 3
   },
   "file_extension": ".py",
   "mimetype": "text/x-python",
   "name": "python",
   "nbconvert_exporter": "python",
   "pygments_lexer": "ipython3",
   "version": "3.10.4"
  },
  "orig_nbformat": 4
 },
 "nbformat": 4,
 "nbformat_minor": 2
}
