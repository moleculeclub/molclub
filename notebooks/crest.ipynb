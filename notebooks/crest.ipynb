{
 "cells": [
  {
   "cell_type": "code",
   "execution_count": 1,
   "metadata": {},
   "outputs": [],
   "source": [
    "from typing import List, Union, TextIO\n",
    "import os\n",
    "import subprocess\n",
    "import tempfile\n",
    "\n",
    "import pandas as pd\n",
    "import numpy as np\n",
    "from rdkit import Chem\n",
    "from rdkit.Chem import rdMolAlign\n",
    "\n",
    "from molclub.compute import gfnff, gfnxtb\n",
    "from molclub.conf_tools import etkdg, crest\n",
    "from molclub.conf_tools.conf_utils import order_confs, boltzmann_pop, prune, rmsd_matrix\n",
    "from molclub import visualize"
   ]
  },
  {
   "cell_type": "code",
   "execution_count": 3,
   "metadata": {},
   "outputs": [
    {
     "data": {
      "text/plain": [
       "3"
      ]
     },
     "execution_count": 3,
     "metadata": {},
     "output_type": "execute_result"
    }
   ],
   "source": [
    "# smi = 'COC1=C(F)C=CC2=C1C=C(N2)C(=O)N(C)C1=CN=C(O1)C#N'\n",
    "smi = 'OCCO'\n",
    "mol = Chem.MolFromSmiles(smi)\n",
    "etkdg_mols = etkdg.generate_conformers(mol, num_confs='auto', num_threads=4)\n",
    "etkdg_mols, etkdg_energies = zip(*[gfnff.opt(mol, num_threads=4) for mol in etkdg_mols])\n",
    "etkdg_mols, etkdg_energies = list(etkdg_mols), list(etkdg_energies)\n",
    "etkdg_mols, etkdg_energies = prune(etkdg_mols, etkdg_energies)\n",
    "etkdg_mols, etkdg_energies = order_confs(etkdg_mols, etkdg_energies)\n",
    "len(etkdg_mols)"
   ]
  },
  {
   "cell_type": "code",
   "execution_count": 4,
   "metadata": {},
   "outputs": [
    {
     "data": {
      "text/plain": [
       "[0.5071679179384367, 0.49283208206156315]"
      ]
     },
     "execution_count": 4,
     "metadata": {},
     "output_type": "execute_result"
    }
   ],
   "source": [
    "boltzmann_pop(etkdg_energies)"
   ]
  },
  {
   "cell_type": "code",
   "execution_count": 5,
   "metadata": {},
   "outputs": [
    {
     "data": {
      "text/plain": [
       "3"
      ]
     },
     "execution_count": 5,
     "metadata": {},
     "output_type": "execute_result"
    }
   ],
   "source": [
    "params = crest.Parameters(search_intensity='faster', num_threads=4)\n",
    "crest_mols = crest.generate_conformers(etkdg_mols[0], crest_params=params)\n",
    "crest_mols, crest_energies = zip(*[gfnxtb.opt(mol, num_threads=4) for mol in crest_mols])\n",
    "crest_mols, crest_energies = order_confs(crest_mols, crest_energies)\n",
    "len(crest_mols)"
   ]
  },
  {
   "cell_type": "code",
   "execution_count": 16,
   "metadata": {},
   "outputs": [],
   "source": [
    "for mol in etkdg_mols:\n",
    "    mol.SetProp('gen', 'etkdg')\n",
    "for mol in crest_mols:\n",
    "    mol.SetProp('gen', 'crest')"
   ]
  },
  {
   "cell_type": "code",
   "execution_count": 7,
   "metadata": {},
   "outputs": [
    {
     "data": {
      "image/png": "[encoded data removed]",
      "text/plain": [
       "<rdkit.Chem.rdchem.Mol at 0x148ab88b0>"
      ]
     },
     "metadata": {},
     "output_type": "display_data"
    },
    {
     "data": {
      "image/png": "[encoded data removed]",
      "text/plain": [
       "<rdkit.Chem.rdchem.Mol at 0x15fb83b00>"
      ]
     },
     "metadata": {},
     "output_type": "display_data"
    },
    {
     "data": {
      "image/png": "[encoded data removed]",
      "text/plain": [
       "<rdkit.Chem.rdchem.Mol at 0x15fb82930>"
      ]
     },
     "metadata": {},
     "output_type": "display_data"
    }
   ],
   "source": [
    "for mol in crest_mols:\n",
    "    display(mol)"
   ]
  },
  {
   "cell_type": "code",
   "execution_count": 96,
   "metadata": {},
   "outputs": [],
   "source": [
    "all_mols = etkdg_mols + crest_mols\n",
    "all_energies = etkdg_energies + crest_energies\n",
    "all_mols, all_energies = order_confs(all_mols, all_energies)\n",
    "all_boltz = boltzmann_pop(all_energies)"
   ]
  },
  {
   "cell_type": "code",
   "execution_count": 97,
   "metadata": {},
   "outputs": [
    {
     "name": "stdout",
     "output_type": "stream",
     "text": [
      "[0, 2, 6, 7, 10, 12, 16, 17]\n"
     ]
    }
   ],
   "source": [
    "# for etkdg\n",
    "remove_idx = []\n",
    "for i, mol in enumerate(all_mols):\n",
    "    if mol.GetProp('gen') != 'etkdg':\n",
    "        keep = True\n",
    "        for q_mol in etkdg_mols:\n",
    "            if rdMolAlign.GetBestRMS(Chem.RemoveHs(q_mol), Chem.RemoveHs(mol)) < 0.125:\n",
    "                keep = False\n",
    "        if not keep:\n",
    "            remove_idx.append(i)\n",
    "\n",
    "print(remove_idx)\n",
    "\n",
    "for i in reversed(remove_idx):\n",
    "    all_mols.pop(i)\n",
    "    all_energies.pop(i)"
   ]
  },
  {
   "cell_type": "code",
   "execution_count": 98,
   "metadata": {},
   "outputs": [
    {
     "data": {
      "text/plain": [
       "[0.15310935926039232,\n",
       " 0.15051944138982584,\n",
       " 0.1454927995787803,\n",
       " 0.14539294807350028,\n",
       " 0.09047916556950147,\n",
       " 0.09010916002010914,\n",
       " 0.08900710770392498,\n",
       " 0.08722065068127059,\n",
       " 0.048669367722695075]"
      ]
     },
     "execution_count": 98,
     "metadata": {},
     "output_type": "execute_result"
    }
   ],
   "source": [
    "all_boltz = boltzmann_pop(all_energies)\n",
    "all_boltz"
   ]
  },
  {
   "cell_type": "code",
   "execution_count": 100,
   "metadata": {},
   "outputs": [
    {
     "name": "stdout",
     "output_type": "stream",
     "text": [
      "etkdg\n",
      "etkdg\n",
      "etkdg\n",
      "etkdg\n",
      "crest\n",
      "crest\n",
      "etkdg\n",
      "etkdg\n",
      "crest\n",
      "etkdg\n"
     ]
    }
   ],
   "source": [
    "for mol in all_mols:\n",
    "    print(mol.GetProp('gen'))"
   ]
  },
  {
   "cell_type": "code",
   "execution_count": 3,
   "metadata": {},
   "outputs": [],
   "source": [
    "def get_rms_matrix(mols):\n",
    "    mols_no_h = [Chem.RemoveHs(mol) for mol in mols]\n",
    "    rms_matrix = np.ndarray((len(mols_no_h), len(mols_no_h)))\n",
    "    rms_matrix.fill(-1)\n",
    "    for i, mol_1 in enumerate(mols_no_h):\n",
    "        for j, mol_2 in enumerate(mols_no_h):\n",
    "            if j >= i:\n",
    "                rms = rdMolAlign.GetBestRMS(mol_1, mol_2)\n",
    "                rms_matrix[i][j] = rms\n",
    "    return pd.DataFrame(rms_matrix)"
   ]
  },
  {
   "cell_type": "code",
   "execution_count": 8,
   "metadata": {},
   "outputs": [
    {
     "ename": "NameError",
     "evalue": "name 'get_rms_matrix' is not defined",
     "output_type": "error",
     "traceback": [
      "\u001b[0;31m---------------------------------------------------------------------------\u001b[0m",
      "\u001b[0;31mNameError\u001b[0m                                 Traceback (most recent call last)",
      "\u001b[1;32m/Users/ozone/dev/molclub/notebooks/crest.ipynb Cell 12'\u001b[0m in \u001b[0;36m<cell line: 1>\u001b[0;34m()\u001b[0m\n\u001b[0;32m----> <a href='vscode-notebook-cell:/Users/ozone/dev/molclub/notebooks/crest.ipynb#ch0000010?line=0'>1</a>\u001b[0m get_rms_matrix(etkdg_mols)\n",
      "\u001b[0;31mNameError\u001b[0m: name 'get_rms_matrix' is not defined"
     ]
    }
   ],
   "source": [
    "get_rms_matrix(etkdg_mols)"
   ]
  },
  {
   "cell_type": "code",
   "execution_count": 5,
   "metadata": {},
   "outputs": [
    {
     "name": "stdout",
     "output_type": "stream",
     "text": [
      "9\n"
     ]
    },
    {
     "data": {
      "text/plain": [
       "6"
      ]
     },
     "execution_count": 5,
     "metadata": {},
     "output_type": "execute_result"
    }
   ],
   "source": [
    "print(len(etkdg_mols))\n",
    "etkdg_mols = prune(etkdg_mols)\n",
    "len(etkdg_mols)"
   ]
  }
 ],
 "metadata": {
  "interpreter": {
   "hash": "d99df91ace14ae3af3010dabe2f6ce33aecd0647a307d6eed38c3d1d0e1f4f09"
  },
  "kernelspec": {
   "display_name": "Python 3.10.4 ('molclub')",
   "language": "python",
   "name": "python3"
  },
  "language_info": {
   "codemirror_mode": {
    "name": "ipython",
    "version": 3
   },
   "file_extension": ".py",
   "mimetype": "text/x-python",
   "name": "python",
   "nbconvert_exporter": "python",
   "pygments_lexer": "ipython3",
   "version": "3.10.5"
  },
  "orig_nbformat": 4
 },
 "nbformat": 4,
 "nbformat_minor": 2
}
