{
 "cells": [
  {
   "cell_type": "code",
   "execution_count": 47,
   "metadata": {},
   "outputs": [
    {
     "name": "stdout",
     "output_type": "stream",
     "text": [
      "-7147.596204039932\n",
      "0.02942998986733899\n"
     ]
    },
    {
     "data": {
      "text/plain": [
       "'[H]C([H])([H])OC([H])([H])[H] |(-1.15137,1.06017,0.434985;-1.16939,0.0993631,-0.0910665;-1.3259,-0.704531,0.636736;-1.97298,0.095162,-0.823185;0.0270769,-0.101689,-0.813061;1.17206,-0.109124,0.0128861;1.2854,0.849117,0.531736;2.02214,-0.27537,-0.643869;1.11295,-0.913096,0.754838),atomProp:0.isImplicit.1:2.isImplicit.1:3.isImplicit.1:6.isImplicit.1:7.isImplicit.1:8.isImplicit.1|'"
      ]
     },
     "execution_count": 47,
     "metadata": {},
     "output_type": "execute_result"
    }
   ],
   "source": [
    "import subprocess\n",
    "\n",
    "from rdkit import Chem\n",
    "from rdkit.Chem import rdMolAlign\n",
    "\n",
    "import molclub\n",
    "from molclub import xtb, conf, utils\n",
    "\n"
   ]
  }
 ],
 "metadata": {
  "interpreter": {
   "hash": "3fc75316a675d6cd8bad14bdcbb8c66d69d72b9c908f9e12d9be8e7689015f11"
  },
  "kernelspec": {
   "display_name": "Python 3.10.4 ('mol')",
   "language": "python",
   "name": "python3"
  },
  "language_info": {
   "codemirror_mode": {
    "name": "ipython",
    "version": 3
   },
   "file_extension": ".py",
   "mimetype": "text/x-python",
   "name": "python",
   "nbconvert_exporter": "python",
   "pygments_lexer": "ipython3",
   "version": "3.10.4"
  },
  "orig_nbformat": 4
 },
 "nbformat": 4,
 "nbformat_minor": 2
}
