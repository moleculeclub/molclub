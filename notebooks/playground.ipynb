{
 "cells": [
  {
   "cell_type": "code",
   "execution_count": 1,
   "metadata": {},
   "outputs": [
    {
     "data": {
      "image/png": "[encoded data removed]",
      "text/plain": [
       "<rdkit.Chem.rdchem.Mol at 0x1073b9a20>"
      ]
     },
     "execution_count": 1,
     "metadata": {},
     "output_type": "execute_result"
    }
   ],
   "source": [
    "import subprocess\n",
    "\n",
    "from rdkit import Chem\n",
    "\n",
    "from molclub import xtb, conf\n",
    "\n",
    "params = xtb.Parameters()\n",
    "\n",
    "mol = Chem.MolFromSmiles('C')\n",
    "mol = conf.etkdg_conf_gen(mol)\n",
    "mol"
   ]
  },
  {
   "cell_type": "code",
   "execution_count": 2,
   "metadata": {},
   "outputs": [
    {
     "data": {
      "text/plain": [
       "Output(cwd='/var/folders/n8/vbbw9ls578n4msgwm3tg7cr00000gn/T/tmp5rnqwvxw', energy_kcal=-2619.77447459938, energy_hartree=-4.174939401752, num_steps=0, dipole=Dipole(x='-0.000', y='-0.000', z='0.000', total='0.001'))"
      ]
     },
     "execution_count": 2,
     "metadata": {},
     "output_type": "execute_result"
    }
   ],
   "source": [
    "xtb.job(\n",
    "    mol,\n",
    "    params=params,\n",
    "    job_type='opt',\n",
    ")"
   ]
  },
  {
   "cell_type": "code",
   "execution_count": 4,
   "metadata": {},
   "outputs": [
    {
     "data": {
      "text/plain": [
       "Output(cwd='./tmp', energy_kcal=-2618.37172830372, energy_hartree=-4.172703949488, num_steps=0, dipole=Dipole(x='0.011', y='0.001', z='-0.005', total='0.031'))"
      ]
     },
     "execution_count": 4,
     "metadata": {},
     "output_type": "execute_result"
    }
   ],
   "source": [
    "xtb.job(\n",
    "    mol,\n",
    "    params=params,\n",
    "    job_type='sp',\n",
    "    use_temp_dir=False,\n",
    "    working_dir='./tmp'\n",
    ")"
   ]
  }
 ],
 "metadata": {
  "interpreter": {
   "hash": "3fc75316a675d6cd8bad14bdcbb8c66d69d72b9c908f9e12d9be8e7689015f11"
  },
  "kernelspec": {
   "display_name": "Python 3.10.4 ('mol')",
   "language": "python",
   "name": "python3"
  },
  "language_info": {
   "codemirror_mode": {
    "name": "ipython",
    "version": 3
   },
   "file_extension": ".py",
   "mimetype": "text/x-python",
   "name": "python",
   "nbconvert_exporter": "python",
   "pygments_lexer": "ipython3",
   "version": "3.10.4"
  },
  "orig_nbformat": 4
 },
 "nbformat": 4,
 "nbformat_minor": 2
}
