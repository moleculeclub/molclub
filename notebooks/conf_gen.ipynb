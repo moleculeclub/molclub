{
 "cells": [
  {
   "cell_type": "code",
   "execution_count": 1,
   "metadata": {},
   "outputs": [],
   "source": [
    "import matplotlib.pyplot as plt\n",
    "\n",
    "from rdkit import Chem\n",
    "from rdkit.Chem import rdForceFieldHelpers, rdMolAlign\n",
    "from rdkit.Chem.Draw import IPythonConsole\n",
    "\n",
    "from molclub import conf_gen, mmff"
   ]
  },
  {
   "cell_type": "code",
   "execution_count": 21,
   "metadata": {},
   "outputs": [
    {
     "data": {
      "image/png": "[encoded data removed]",
      "text/plain": [
       "<rdkit.Chem.rdchem.Mol at 0x12923dea0>"
      ]
     },
     "metadata": {},
     "output_type": "display_data"
    },
    {
     "data": {
      "text/plain": [
       "2"
      ]
     },
     "execution_count": 21,
     "metadata": {},
     "output_type": "execute_result"
    }
   ],
   "source": [
    "smi = \"OC(=O)C1=CC=CC=C1C1=CC=CC=N1\"\n",
    "mol = Chem.MolFromSmiles(smi)\n",
    "# mol = Chem.MolFromSmiles('CCOCC')\n",
    "mol = Chem.AddHs(mol)\n",
    "display(mol)\n",
    "\n",
    "mols, energies = conf_gen.rdkit_conf_gen(mol)\n",
    "len(mols)"
   ]
  },
  {
   "cell_type": "code",
   "execution_count": 12,
   "metadata": {},
   "outputs": [
    {
     "name": "stdout",
     "output_type": "stream",
     "text": [
      "200\n",
      "2\n"
     ]
    }
   ],
   "source": [
    "mol = Chem.MolFromSmiles('CN1C(=O)C2=C(N(N=C2N3C1=NC4C3CCC4)CC5=CC=C(C=C5)C6=NC(=CC=C6)F)NC7=CC=CC=C7')\n",
    "mols = conf_gen.etkdg(\n",
    "    mol,\n",
    ")\n",
    "print(len(mols))\n",
    "\n",
    "mols = conf_gen.prune(\n",
    "    mols,\n",
    "    None,\n",
    "    1\n",
    ")\n",
    "print(len(mols))"
   ]
  },
  {
   "cell_type": "markdown",
   "metadata": {},
   "source": []
  }
 ],
 "metadata": {
  "interpreter": {
   "hash": "d99df91ace14ae3af3010dabe2f6ce33aecd0647a307d6eed38c3d1d0e1f4f09"
  },
  "kernelspec": {
   "display_name": "Python 3.10.4 ('molclub')",
   "language": "python",
   "name": "python3"
  },
  "language_info": {
   "codemirror_mode": {
    "name": "ipython",
    "version": 3
   },
   "file_extension": ".py",
   "mimetype": "text/x-python",
   "name": "python",
   "nbconvert_exporter": "python",
   "pygments_lexer": "ipython3",
   "version": "3.10.4"
  },
  "orig_nbformat": 4,
  "vscode": {
   "interpreter": {
    "hash": "b8950ee8e8dd8bb7424045c6f213cf398b6578971cc17e70f4025c99276bc0c0"
   }
  }
 },
 "nbformat": 4,
 "nbformat_minor": 2
}
