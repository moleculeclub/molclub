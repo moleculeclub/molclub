{
 "cells": [
  {
   "cell_type": "markdown",
   "metadata": {},
   "source": [
    "# Conformer Generation in the Molecule Club"
   ]
  },
  {
   "cell_type": "code",
   "execution_count": 1,
   "metadata": {},
   "outputs": [],
   "source": [
    "import matplotlib.pyplot as plt\n",
    "from rdkit import Chem\n",
    "from rdkit.Chem import rdMolAlign\n",
    "from rdkit.Chem.Draw import IPythonConsole\n",
    "\n",
    "from molclub.conf_tools import etkdg, conf_utils\n",
    "from molclub.compute import gfnff, gfnxtb\n",
    "from molclub import visualize"
   ]
  },
  {
   "cell_type": "markdown",
   "metadata": {},
   "source": [
    "## Conformer initialization using RDKit's ETKDG"
   ]
  },
  {
   "cell_type": "code",
   "execution_count": 2,
   "metadata": {},
   "outputs": [
    {
     "data": {
      "image/png": "[encoded data removed]",
      "text/plain": [
       "<rdkit.Chem.rdchem.Mol at 0x106a809a0>"
      ]
     },
     "execution_count": 2,
     "metadata": {},
     "output_type": "execute_result"
    }
   ],
   "source": [
    "smi = 'NC(=O)C1=CC=C(CN2N=C3NC(=N)NC(=O)C3=C2NC2=CC=CC=C2)C=C1'\n",
    "mol = Chem.MolFromSmiles(smi)\n",
    "mol"
   ]
  },
  {
   "cell_type": "code",
   "execution_count": 3,
   "metadata": {},
   "outputs": [
    {
     "name": "stdout",
     "output_type": "stream",
     "text": [
      "there are 101 mols\n"
     ]
    },
    {
     "data": {
      "image/png": "[encoded data removed]",
      "text/plain": [
       "<rdkit.Chem.rdchem.Mol at 0x114625350>"
      ]
     },
     "metadata": {},
     "output_type": "display_data"
    }
   ],
   "source": [
    "mols = etkdg.generate_conformers(mol, num_threads=4)\n",
    "print(f'there are {len(mols)} mols')\n",
    "display(mols[0])"
   ]
  },
  {
   "cell_type": "code",
   "execution_count": 8,
   "metadata": {},
   "outputs": [
    {
     "data": {
      "application/3dmoljs_load.v0": "<div id=\"3dmolviewer_1655596309280295\"  style=\"position: relative; width: 400px; height: 300px\">\n        <p id=\"3dmolwarning_1655596309280295\" style=\"background-color:#ffcccc;color:black\">You appear to be running in JupyterLab (or JavaScript failed to load for some other reason).  You need to install the 3dmol extension: <br>\n        <tt>jupyter labextension install jupyterlab_3dmol</tt></p>\n        </div>\n<script>\n\nvar loadScriptAsync = function(uri){\n  return new Promise((resolve, reject) => {\n    var tag = document.createElement('script');\n    tag.src = uri;\n    tag.async = true;\n    tag.onload = () => {\n      resolve();\n    };\n  var firstScriptTag = document.getElementsByTagName('script')[0];\n  firstScriptTag.parentNode.insertBefore(tag, firstScriptTag);\n});\n};\n\nif(typeof $3Dmolpromise === 'undefined') {\n$3Dmolpromise = null;\n  $3Dmolpromise = loadScriptAsync('https://3dmol.org/build/3Dmol.js');\n}\n\nvar viewer_1655596309280295 = null;\nvar warn = document.getElementById(\"3dmolwarning_1655596309280295\");\nif(warn) {\n    warn.parentNode.removeChild(warn);\n}\n$3Dmolpromise.then(function() {\nviewer_1655596309280295 = $3Dmol.createViewer($(\"#3dmolviewer_1655596309280295\"),{backgroundColor:\"white\"});\nviewer_1655596309280295.zoomTo();\n\tviewer_1655596309280295.removeAllModels();\n\tviewer_1655596309280295.addModel(\"\\n     RDKit          3D\\n\\n 45 48  0  0  0  0  0  0  0  0999 V2000\\n    6.4594   -1.4440   -1.3430 N   0  0  0  0  0  0  0  0  0  0  0  0\\n    5.1783   -1.6221   -1.8686 C   0  0  0  0  0  0  0  0  0  0  0  0\\n    5.0320   -1.9309   -3.0866 O   0  0  0  0  0  0  0  0  0  0  0  0\\n    3.9902   -1.4632   -1.0515 C   0  0  0  0  0  0  0  0  0  0  0  0\\n    4.0668   -1.0367    0.2544 C   0  0  0  0  0  0  0  0  0  0  0  0\\n    2.9329   -0.8879    1.0430 C   0  0  0  0  0  0  0  0  0  0  0  0\\n    1.6948   -1.1738    0.5087 C   0  0  0  0  0  0  0  0  0  0  0  0\\n    0.4545   -1.0287    1.3112 C   0  0  0  0  0  0  0  0  0  0  0  0\\n   -0.0342    0.3229    1.1356 N   0  0  0  0  0  0  0  0  0  0  0  0\\n    0.3096    1.3831    1.8546 N   0  0  0  0  0  0  0  0  0  0  0  0\\n   -0.3366    2.4908    1.4023 C   0  0  0  0  0  0  0  0  0  0  0  0\\n   -0.3631    3.7756    1.7361 N   0  0  0  0  0  0  0  0  0  0  0  0\\n   -1.1504    4.6445    1.0381 C   0  0  0  0  0  0  0  0  0  0  0  0\\n   -1.1596    5.9016    1.3877 N   0  0  0  0  0  0  0  0  0  0  0  0\\n   -1.9104    4.2441    0.0125 N   0  0  0  0  0  0  0  0  0  0  0  0\\n   -1.9073    2.9487   -0.3521 C   0  0  0  0  0  0  0  0  0  0  0  0\\n   -2.6018    2.5225   -1.3072 O   0  0  0  0  0  0  0  0  0  0  0  0\\n   -1.1155    2.0462    0.3413 C   0  0  0  0  0  0  0  0  0  0  0  0\\n   -0.9134    0.6962    0.1929 C   0  0  0  0  0  0  0  0  0  0  0  0\\n   -1.5173   -0.1385   -0.7699 N   0  0  0  0  0  0  0  0  0  0  0  0\\n   -2.6333   -0.9527   -0.5209 C   0  0  0  0  0  0  0  0  0  0  0  0\\n   -3.2341   -0.9381    0.7134 C   0  0  0  0  0  0  0  0  0  0  0  0\\n   -4.3378   -1.7580    0.9843 C   0  0  0  0  0  0  0  0  0  0  0  0\\n   -4.8375   -2.5989   -0.0015 C   0  0  0  0  0  0  0  0  0  0  0  0\\n   -4.2325   -2.6027   -1.2216 C   0  0  0  0  0  0  0  0  0  0  0  0\\n   -3.1504   -1.7926   -1.4717 C   0  0  0  0  0  0  0  0  0  0  0  0\\n    1.6221   -1.5942   -0.7790 C   0  0  0  0  0  0  0  0  0  0  0  0\\n    2.7278   -1.7464   -1.5708 C   0  0  0  0  0  0  0  0  0  0  0  0\\n    7.3133   -1.6727   -1.9038 H   0  0  0  0  0  0  0  0  0  0  0  0\\n    6.6101   -1.0825   -0.3893 H   0  0  0  0  0  0  0  0  0  0  0  0\\n    5.0281   -0.7929    0.7355 H   0  0  0  0  0  0  0  0  0  0  0  0\\n    2.9816   -0.5502    2.0805 H   0  0  0  0  0  0  0  0  0  0  0  0\\n    0.7625   -1.1655    2.3872 H   0  0  0  0  0  0  0  0  0  0  0  0\\n   -0.3136   -1.7629    1.0269 H   0  0  0  0  0  0  0  0  0  0  0  0\\n    0.2246    4.0919    2.5315 H   0  0  0  0  0  0  0  0  0  0  0  0\\n   -0.5675    6.2154    2.1895 H   0  0  0  0  0  0  0  0  0  0  0  0\\n   -2.5152    4.9351   -0.5182 H   0  0  0  0  0  0  0  0  0  0  0  0\\n   -1.1110   -0.1644   -1.7562 H   0  0  0  0  0  0  0  0  0  0  0  0\\n   -2.9213   -0.3248    1.5338 H   0  0  0  0  0  0  0  0  0  0  0  0\\n   -4.8298   -1.7711    1.9436 H   0  0  0  0  0  0  0  0  0  0  0  0\\n   -5.7072   -3.2393    0.2307 H   0  0  0  0  0  0  0  0  0  0  0  0\\n   -4.6011   -3.2456   -1.9949 H   0  0  0  0  0  0  0  0  0  0  0  0\\n   -2.6901   -1.8259   -2.4730 H   0  0  0  0  0  0  0  0  0  0  0  0\\n    0.6380   -1.8314   -1.2237 H   0  0  0  0  0  0  0  0  0  0  0  0\\n    2.6652   -2.0796   -2.5901 H   0  0  0  0  0  0  0  0  0  0  0  0\\n  1  2  1  0\\n  2  3  2  0\\n  2  4  1  0\\n  4  5  2  0\\n  5  6  1  0\\n  6  7  2  0\\n  7  8  1  0\\n  8  9  1  0\\n  9 10  1  0\\n 10 11  2  0\\n 11 12  1  0\\n 12 13  1  0\\n 13 14  2  3\\n 13 15  1  0\\n 15 16  1  0\\n 16 17  2  0\\n 16 18  1  0\\n 18 19  2  0\\n 19 20  1  0\\n 20 21  1  0\\n 21 22  2  0\\n 22 23  1  0\\n 23 24  2  0\\n 24 25  1  0\\n 25 26  2  0\\n  7 27  1  0\\n 27 28  2  0\\n 28  4  1  0\\n 19  9  1  0\\n 26 21  1  0\\n 18 11  1  0\\n  1 29  1  0\\n  1 30  1  0\\n  5 31  1  0\\n  6 32  1  0\\n  8 33  1  0\\n  8 34  1  0\\n 12 35  1  0\\n 14 36  1  0\\n 15 37  1  0\\n 20 38  1  0\\n 22 39  1  0\\n 23 40  1  0\\n 24 41  1  0\\n 25 42  1  0\\n 26 43  1  0\\n 27 44  1  0\\n 28 45  1  0\\nM  END\\n\");\n\t\tviewer_1655596309280295.getModel().setStyle({\"stick\": {\"colorscheme\": \"magentaCarbon\", \"radius\": 0.25}});\n\tviewer_1655596309280295.setViewStyle({\"style\": \"outline\", \"color\": \"magenta\", \"width\": 0.04});\n\tviewer_1655596309280295.setBackgroundColor(\"#111111\");\n\tviewer_1655596309280295.zoomTo();\nviewer_1655596309280295.render();\n});\n</script>",
      "text/html": [
       "<div id=\"3dmolviewer_1655596309280295\"  style=\"position: relative; width: 400px; height: 300px\">\n",
       "        <p id=\"3dmolwarning_1655596309280295\" style=\"background-color:#ffcccc;color:black\">You appear to be running in JupyterLab (or JavaScript failed to load for some other reason).  You need to install the 3dmol extension: <br>\n",
       "        <tt>jupyter labextension install jupyterlab_3dmol</tt></p>\n",
       "        </div>\n",
       "<script>\n",
       "\n",
       "var loadScriptAsync = function(uri){\n",
       "  return new Promise((resolve, reject) => {\n",
       "    var tag = document.createElement('script');\n",
       "    tag.src = uri;\n",
       "    tag.async = true;\n",
       "    tag.onload = () => {\n",
       "      resolve();\n",
       "    };\n",
       "  var firstScriptTag = document.getElementsByTagName('script')[0];\n",
       "  firstScriptTag.parentNode.insertBefore(tag, firstScriptTag);\n",
       "});\n",
       "};\n",
       "\n",
       "if(typeof $3Dmolpromise === 'undefined') {\n",
       "$3Dmolpromise = null;\n",
       "  $3Dmolpromise = loadScriptAsync('https://3dmol.org/build/3Dmol.js');\n",
       "}\n",
       "\n",
       "var viewer_1655596309280295 = null;\n",
       "var warn = document.getElementById(\"3dmolwarning_1655596309280295\");\n",
       "if(warn) {\n",
       "    warn.parentNode.removeChild(warn);\n",
       "}\n",
       "$3Dmolpromise.then(function() {\n",
       "viewer_1655596309280295 = $3Dmol.createViewer($(\"#3dmolviewer_1655596309280295\"),{backgroundColor:\"white\"});\n",
       "viewer_1655596309280295.zoomTo();\n",
       "\tviewer_1655596309280295.removeAllModels();\n",
       "\tviewer_1655596309280295.addModel(\"\\n     RDKit          3D\\n\\n 45 48  0  0  0  0  0  0  0  0999 V2000\\n    6.4594   -1.4440   -1.3430 N   0  0  0  0  0  0  0  0  0  0  0  0\\n    5.1783   -1.6221   -1.8686 C   0  0  0  0  0  0  0  0  0  0  0  0\\n    5.0320   -1.9309   -3.0866 O   0  0  0  0  0  0  0  0  0  0  0  0\\n    3.9902   -1.4632   -1.0515 C   0  0  0  0  0  0  0  0  0  0  0  0\\n    4.0668   -1.0367    0.2544 C   0  0  0  0  0  0  0  0  0  0  0  0\\n    2.9329   -0.8879    1.0430 C   0  0  0  0  0  0  0  0  0  0  0  0\\n    1.6948   -1.1738    0.5087 C   0  0  0  0  0  0  0  0  0  0  0  0\\n    0.4545   -1.0287    1.3112 C   0  0  0  0  0  0  0  0  0  0  0  0\\n   -0.0342    0.3229    1.1356 N   0  0  0  0  0  0  0  0  0  0  0  0\\n    0.3096    1.3831    1.8546 N   0  0  0  0  0  0  0  0  0  0  0  0\\n   -0.3366    2.4908    1.4023 C   0  0  0  0  0  0  0  0  0  0  0  0\\n   -0.3631    3.7756    1.7361 N   0  0  0  0  0  0  0  0  0  0  0  0\\n   -1.1504    4.6445    1.0381 C   0  0  0  0  0  0  0  0  0  0  0  0\\n   -1.1596    5.9016    1.3877 N   0  0  0  0  0  0  0  0  0  0  0  0\\n   -1.9104    4.2441    0.0125 N   0  0  0  0  0  0  0  0  0  0  0  0\\n   -1.9073    2.9487   -0.3521 C   0  0  0  0  0  0  0  0  0  0  0  0\\n   -2.6018    2.5225   -1.3072 O   0  0  0  0  0  0  0  0  0  0  0  0\\n   -1.1155    2.0462    0.3413 C   0  0  0  0  0  0  0  0  0  0  0  0\\n   -0.9134    0.6962    0.1929 C   0  0  0  0  0  0  0  0  0  0  0  0\\n   -1.5173   -0.1385   -0.7699 N   0  0  0  0  0  0  0  0  0  0  0  0\\n   -2.6333   -0.9527   -0.5209 C   0  0  0  0  0  0  0  0  0  0  0  0\\n   -3.2341   -0.9381    0.7134 C   0  0  0  0  0  0  0  0  0  0  0  0\\n   -4.3378   -1.7580    0.9843 C   0  0  0  0  0  0  0  0  0  0  0  0\\n   -4.8375   -2.5989   -0.0015 C   0  0  0  0  0  0  0  0  0  0  0  0\\n   -4.2325   -2.6027   -1.2216 C   0  0  0  0  0  0  0  0  0  0  0  0\\n   -3.1504   -1.7926   -1.4717 C   0  0  0  0  0  0  0  0  0  0  0  0\\n    1.6221   -1.5942   -0.7790 C   0  0  0  0  0  0  0  0  0  0  0  0\\n    2.7278   -1.7464   -1.5708 C   0  0  0  0  0  0  0  0  0  0  0  0\\n    7.3133   -1.6727   -1.9038 H   0  0  0  0  0  0  0  0  0  0  0  0\\n    6.6101   -1.0825   -0.3893 H   0  0  0  0  0  0  0  0  0  0  0  0\\n    5.0281   -0.7929    0.7355 H   0  0  0  0  0  0  0  0  0  0  0  0\\n    2.9816   -0.5502    2.0805 H   0  0  0  0  0  0  0  0  0  0  0  0\\n    0.7625   -1.1655    2.3872 H   0  0  0  0  0  0  0  0  0  0  0  0\\n   -0.3136   -1.7629    1.0269 H   0  0  0  0  0  0  0  0  0  0  0  0\\n    0.2246    4.0919    2.5315 H   0  0  0  0  0  0  0  0  0  0  0  0\\n   -0.5675    6.2154    2.1895 H   0  0  0  0  0  0  0  0  0  0  0  0\\n   -2.5152    4.9351   -0.5182 H   0  0  0  0  0  0  0  0  0  0  0  0\\n   -1.1110   -0.1644   -1.7562 H   0  0  0  0  0  0  0  0  0  0  0  0\\n   -2.9213   -0.3248    1.5338 H   0  0  0  0  0  0  0  0  0  0  0  0\\n   -4.8298   -1.7711    1.9436 H   0  0  0  0  0  0  0  0  0  0  0  0\\n   -5.7072   -3.2393    0.2307 H   0  0  0  0  0  0  0  0  0  0  0  0\\n   -4.6011   -3.2456   -1.9949 H   0  0  0  0  0  0  0  0  0  0  0  0\\n   -2.6901   -1.8259   -2.4730 H   0  0  0  0  0  0  0  0  0  0  0  0\\n    0.6380   -1.8314   -1.2237 H   0  0  0  0  0  0  0  0  0  0  0  0\\n    2.6652   -2.0796   -2.5901 H   0  0  0  0  0  0  0  0  0  0  0  0\\n  1  2  1  0\\n  2  3  2  0\\n  2  4  1  0\\n  4  5  2  0\\n  5  6  1  0\\n  6  7  2  0\\n  7  8  1  0\\n  8  9  1  0\\n  9 10  1  0\\n 10 11  2  0\\n 11 12  1  0\\n 12 13  1  0\\n 13 14  2  3\\n 13 15  1  0\\n 15 16  1  0\\n 16 17  2  0\\n 16 18  1  0\\n 18 19  2  0\\n 19 20  1  0\\n 20 21  1  0\\n 21 22  2  0\\n 22 23  1  0\\n 23 24  2  0\\n 24 25  1  0\\n 25 26  2  0\\n  7 27  1  0\\n 27 28  2  0\\n 28  4  1  0\\n 19  9  1  0\\n 26 21  1  0\\n 18 11  1  0\\n  1 29  1  0\\n  1 30  1  0\\n  5 31  1  0\\n  6 32  1  0\\n  8 33  1  0\\n  8 34  1  0\\n 12 35  1  0\\n 14 36  1  0\\n 15 37  1  0\\n 20 38  1  0\\n 22 39  1  0\\n 23 40  1  0\\n 24 41  1  0\\n 25 42  1  0\\n 26 43  1  0\\n 27 44  1  0\\n 28 45  1  0\\nM  END\\n\");\n",
       "\t\tviewer_1655596309280295.getModel().setStyle({\"stick\": {\"colorscheme\": \"magentaCarbon\", \"radius\": 0.25}});\n",
       "\tviewer_1655596309280295.setViewStyle({\"style\": \"outline\", \"color\": \"magenta\", \"width\": 0.04});\n",
       "\tviewer_1655596309280295.setBackgroundColor(\"#111111\");\n",
       "\tviewer_1655596309280295.zoomTo();\n",
       "viewer_1655596309280295.render();\n",
       "});\n",
       "</script>"
      ]
     },
     "metadata": {},
     "output_type": "display_data"
    }
   ],
   "source": [
    "visualize.mol(mols[0])"
   ]
  },
  {
   "cell_type": "markdown",
   "metadata": {},
   "source": [
    "## Geometry optimization with xtb's GFNFF"
   ]
  },
  {
   "cell_type": "code",
   "execution_count": 4,
   "metadata": {},
   "outputs": [
    {
     "data": {
      "text/plain": [
       "[<matplotlib.lines.Line2D at 0x124aba380>]"
      ]
     },
     "execution_count": 4,
     "metadata": {},
     "output_type": "execute_result"
    },
    {
     "data": {
      "image/png": "[encoded data removed]",
      "text/plain": [
       "<Figure size 432x288 with 1 Axes>"
      ]
     },
     "metadata": {
      "needs_background": "light"
     },
     "output_type": "display_data"
    }
   ],
   "source": [
    "mol = mols[0]\n",
    "steps, energies = gfnff.opt_traj(mol, 25, 4)\n",
    "\n",
    "plt.plot(steps, energies)"
   ]
  },
  {
   "cell_type": "code",
   "execution_count": 5,
   "metadata": {},
   "outputs": [],
   "source": [
    "mols_energies = [gfnff.opt(mol, num_threads=4) for mol in mols]\n",
    "mols = [m_e[0] for m_e in mols_energies]\n",
    "energies = [m_e[1] for m_e in mols_energies]"
   ]
  },
  {
   "cell_type": "code",
   "execution_count": 6,
   "metadata": {},
   "outputs": [
    {
     "data": {
      "text/plain": [
       "[-6069.945243732937,\n",
       " -6004.878998153525,\n",
       " -6004.782561627382,\n",
       " -6004.757845840612,\n",
       " -6004.73387619715]"
      ]
     },
     "execution_count": 6,
     "metadata": {},
     "output_type": "execute_result"
    }
   ],
   "source": [
    "mols, energies = conf_utils.order_confs(mols, None, energies=energies)\n",
    "energies[:5]"
   ]
  },
  {
   "cell_type": "code",
   "execution_count": 7,
   "metadata": {},
   "outputs": [
    {
     "name": "stdout",
     "output_type": "stream",
     "text": [
      "106\n",
      "44\n"
     ]
    }
   ],
   "source": [
    "print(len(mols))\n",
    "mols, energies = conf_utils.prune(mols, energies)\n",
    "print(len(mols))"
   ]
  },
  {
   "cell_type": "markdown",
   "metadata": {},
   "source": [
    "# Now again with xtb instead of a force-field"
   ]
  },
  {
   "cell_type": "code",
   "execution_count": 8,
   "metadata": {},
   "outputs": [
    {
     "data": {
      "text/plain": [
       "[<matplotlib.lines.Line2D at 0x118fdf4c0>]"
      ]
     },
     "execution_count": 8,
     "metadata": {},
     "output_type": "execute_result"
    },
    {
     "data": {
      "image/png": "[encoded data removed]",
      "text/plain": [
       "<Figure size 432x288 with 1 Axes>"
      ]
     },
     "metadata": {
      "needs_background": "light"
     },
     "output_type": "display_data"
    }
   ],
   "source": [
    "mol = mols[0]\n",
    "steps, energies = gfnxtb.opt_traj(mol, max_iters=25, num_threads=4)\n",
    "\n",
    "plt.plot(steps, energies)"
   ]
  },
  {
   "cell_type": "code",
   "execution_count": 11,
   "metadata": {},
   "outputs": [],
   "source": [
    "mols_energies = [gfnxtb.opt(mol, num_threads=4) for mol in mols]\n",
    "\n",
    "mols = [m_e[0] for m_e in mols_energies]\n",
    "energies = [m_e[1] for m_e in mols_energies]\n",
    "\n",
    "mols, energies = conf_utils.order_confs(mols, None, energies=energies)"
   ]
  },
  {
   "cell_type": "code",
   "execution_count": 12,
   "metadata": {},
   "outputs": [
    {
     "name": "stdout",
     "output_type": "stream",
     "text": [
      "44\n",
      "38\n"
     ]
    }
   ],
   "source": [
    "print(len(mols))\n",
    "mols, energies = conf_utils.prune(mols, energies)\n",
    "print(len(mols))"
   ]
  },
  {
   "cell_type": "code",
   "execution_count": 16,
   "metadata": {},
   "outputs": [
    {
     "name": "stdout",
     "output_type": "stream",
     "text": [
      "9\n",
      "9\n"
     ]
    }
   ],
   "source": [
    "boltzmann_pops = conf_utils.boltzmann_pop(energies)\n",
    "print(len(mols))\n",
    "mols = mols[:len(boltzmann_pops)]\n",
    "energies = energies[:len(boltzmann_pops)]\n",
    "print(len(mols))"
   ]
  },
  {
   "cell_type": "code",
   "execution_count": 21,
   "metadata": {},
   "outputs": [
    {
     "data": {
      "text/plain": [
       "[2.597733593921974,\n",
       " 2.6726946189816907,\n",
       " 2.6161611550743182,\n",
       " 0.8037941097793687,\n",
       " 0.7149149077765139,\n",
       " 0.5717272655071735,\n",
       " 2.6703944439045664,\n",
       " 2.6154442922334336]"
      ]
     },
     "metadata": {},
     "output_type": "display_data"
    }
   ],
   "source": [
    "rms_list = []\n",
    "for mol in mols[1:]:\n",
    "    rms_list.append(rdMolAlign.GetBestRMS(mol, mols[0]))\n",
    "display(rms_list)"
   ]
  }
 ],
 "metadata": {
  "kernelspec": {
   "display_name": "Python 3.10.4 ('molclub')",
   "language": "python",
   "name": "python3"
  },
  "language_info": {
   "codemirror_mode": {
    "name": "ipython",
    "version": 3
   },
   "file_extension": ".py",
   "mimetype": "text/x-python",
   "name": "python",
   "nbconvert_exporter": "python",
   "pygments_lexer": "ipython3",
   "version": "3.10.4"
  },
  "orig_nbformat": 4,
  "vscode": {
   "interpreter": {
    "hash": "d99df91ace14ae3af3010dabe2f6ce33aecd0647a307d6eed38c3d1d0e1f4f09"
   }
  }
 },
 "nbformat": 4,
 "nbformat_minor": 2
}
