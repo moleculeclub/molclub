{
 "cells": [
  {
   "cell_type": "code",
   "execution_count": 1,
   "metadata": {},
   "outputs": [],
   "source": [
    "from subprocess import run\n",
    "from rdkit import Chem\n",
    "\n",
    "from molclub.conf_tools import etkdg, conf_utils\n",
    "from molclub.compute import orca_utils, orca_dft"
   ]
  },
  {
   "cell_type": "code",
   "execution_count": 4,
   "metadata": {},
   "outputs": [],
   "source": [
    "orca_dir = '/Users/ozone/bin/_orca_5_0_3/'\n",
    "\n",
    "# smi = 'COC1=C(F)C=CC2=C1C=C(N2)C(=O)N(C)C1=CN=C(O1)C#N'\n",
    "# smi = 'CCCC'\n",
    "smi = 'O'\n",
    "mol = Chem.MolFromSmiles(smi)\n",
    "etkdg_mols = etkdg.generate_conformers(mol, num_confs='auto', num_threads=4)\n",
    "mol = etkdg_mols[0]"
   ]
  },
  {
   "cell_type": "code",
   "execution_count": 5,
   "metadata": {},
   "outputs": [
    {
     "data": {
      "image/png": "[encoded data removed]",
      "text/plain": [
       "<rdkit.Chem.rdchem.Mol at 0x135369800>"
      ]
     },
     "execution_count": 5,
     "metadata": {},
     "output_type": "execute_result"
    }
   ],
   "source": [
    "orca_dft.sp(mol, orca_dir, num_threads=4)\n",
    "mol"
   ]
  },
  {
   "cell_type": "code",
   "execution_count": 6,
   "metadata": {},
   "outputs": [
    {
     "data": {
      "text/plain": [
       "[-47958.26120893797,\n",
       " -47958.91205632358,\n",
       " -47958.9309466595,\n",
       " -47958.93730747012,\n",
       " -47958.937310026566]"
      ]
     },
     "execution_count": 6,
     "metadata": {},
     "output_type": "execute_result"
    }
   ],
   "source": [
    "mols, energies = orca_dft.opt_traj(mol, orca_dir, num_threads=4)\n",
    "energies"
   ]
  }
 ],
 "metadata": {
  "kernelspec": {
   "display_name": "Python 3.10.5 ('molclub')",
   "language": "python",
   "name": "python3"
  },
  "language_info": {
   "codemirror_mode": {
    "name": "ipython",
    "version": 3
   },
   "file_extension": ".py",
   "mimetype": "text/x-python",
   "name": "python",
   "nbconvert_exporter": "python",
   "pygments_lexer": "ipython3",
   "version": "3.10.5"
  },
  "orig_nbformat": 4,
  "vscode": {
   "interpreter": {
    "hash": "d99df91ace14ae3af3010dabe2f6ce33aecd0647a307d6eed38c3d1d0e1f4f09"
   }
  }
 },
 "nbformat": 4,
 "nbformat_minor": 2
}
